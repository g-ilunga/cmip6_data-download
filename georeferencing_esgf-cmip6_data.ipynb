{
 "cells": [
  {
   "cell_type": "markdown",
   "metadata": {},
   "source": [
    "**<center>Georeferencing CMIP6 data and extracting an area of interest (AOI)</center>**\n",
    "\n",
    "*This script was developed on Python 3.9.19.*\n",
    "\n",
    "*Ensure that the following packages are installed:  pandas, xarray, numpy*\n",
    "\n",
    "*Feel free to optimise this script and share the update*"
   ]
  },
  {
   "cell_type": "markdown",
   "metadata": {},
   "source": [
    "**1. Importing libraries**"
   ]
  },
  {
   "cell_type": "code",
   "execution_count": 1,
   "metadata": {},
   "outputs": [],
   "source": [
    "import xarray as xr\n",
    "import numpy as np"
   ]
  },
  {
   "cell_type": "markdown",
   "metadata": {},
   "source": [
    "**2. Defining the function to be used for georeferencing and extracting the AOI**"
   ]
  },
  {
   "cell_type": "markdown",
   "metadata": {},
   "source": [
    "*The function below will georeference the dataset then extract the area of interest (AOI). It takes the following parameters:*\n",
    "    \n",
    "*1. input_file: the CMIP6 data you want to process*\n",
    "    \n",
    "*2. aoi: the list containing the geographic coordinates of your AOI. The list must contain values in the following order [lat_max, lat_min, lon_max, lon_min]*\n",
    "    \n",
    "*3. output_file: the path to save the processed file*"
   ]
  },
  {
   "cell_type": "code",
   "execution_count": 2,
   "metadata": {},
   "outputs": [],
   "source": [
    "\n",
    "def georef_clip (input_file, aoi, output_file): \n",
    "\n",
    "    dataset = xr.open_dataset(input_file) # Opening the CMIP6 dataset\n",
    "\n",
    "    # Georeferencing step\n",
    "\n",
    "    georef_data = dataset\n",
    "\n",
    "    georef_data[\"lon\"] = np.where(georef_data[\"lon\"] > 180, georef_data[\"lon\"] - 360, georef_data[\"lon\"]) # Changing the 0-360 longitude format to use the -180 to 180 format\n",
    "\n",
    "    georef_data = georef_data.sortby(georef_data.lon) # Sorting the data by longitude values\n",
    "\n",
    "    # Extracting the area of interest (AOI)\n",
    "\n",
    "        # Finding the closest coordinates (in the dataset) to the provided AOI. \n",
    "\n",
    "    north = np.argmin(np.abs(georef_data[\"lat\"].values - aoi[0]))\n",
    "\n",
    "    south = np.argmin(np.abs(georef_data[\"lat\"].values - aoi[1]))\n",
    "\n",
    "    east = np.argmin(np.abs(georef_data[\"lon\"].values - aoi[2]))\n",
    "\n",
    "    west = np.argmin(np.abs(georef_data[\"lon\"].values - aoi[3]))\n",
    "\n",
    "        # Getting the id of the closest coordinates\n",
    "\n",
    "    lon_min = georef_data[\"lon\"].values[west]\n",
    "\n",
    "    lon_max = georef_data[\"lon\"].values[east]\n",
    "\n",
    "    lat_min = georef_data[\"lat\"].values[south]\n",
    "\n",
    "    lat_max = georef_data[\"lat\"].values[north]\n",
    "\n",
    "        # Clipping the data using the identified coordinates in the dataset that close to the provided AOI\n",
    "\n",
    "    clipped_data = georef_data.sel(lon=slice(lon_min, lon_max), lat=slice(lat_min, lat_max))\n",
    "\n",
    "    # Saving the result\n",
    "\n",
    "    clipped_data.to_netcdf(output_file)\n",
    "\n",
    "    print (f\"Process completed. Data saved here {output_file}\")\n"
   ]
  },
  {
   "cell_type": "markdown",
   "metadata": {},
   "source": [
    "**3. Georeferencing and extracting the AOI**"
   ]
  },
  {
   "cell_type": "code",
   "execution_count": 5,
   "metadata": {},
   "outputs": [],
   "source": [
    "# Setting the parameters to be used by the function\n",
    "\n",
    "cmip6_file = \"C:/Users/ilung/Documents/georef_cmip6/uas_day_IPSL-CM6A-LR_ssp245_r1i1p1f1_gr_20150101-21001231.nc\" # CMIP6 file\n",
    "\n",
    "aoi = [15, -3, 3, -14] # The list containing the AOI bounding box. Must use the following format [lat_max, lat_min, lon_max, lon_min]\n",
    "\n",
    "output_file = \"C:/Users/ilung/Documents/georef_cmip6/uas_day_clip.nc\" # Output file\n",
    "\n",
    "# Launching the function to georeference and extract the AOI\n",
    "\n",
    "georef_clip(cmip6_file, aoi, output_file)"
   ]
  }
 ],
 "metadata": {
  "kernelspec": {
   "display_name": "python39",
   "language": "python",
   "name": "python3"
  },
  "language_info": {
   "codemirror_mode": {
    "name": "ipython",
    "version": 3
   },
   "file_extension": ".py",
   "mimetype": "text/x-python",
   "name": "python",
   "nbconvert_exporter": "python",
   "pygments_lexer": "ipython3",
   "version": "3.9.18"
  }
 },
 "nbformat": 4,
 "nbformat_minor": 2
}
