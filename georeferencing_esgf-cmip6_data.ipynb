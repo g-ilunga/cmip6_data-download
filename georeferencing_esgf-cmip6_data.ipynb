{
 "cells": [
  {
   "cell_type": "markdown",
   "metadata": {},
   "source": [
    "**<h1><center>Georeferencing CMIP6 data and extracting an area of interest (AOI)</h1></center>**<br>\n",
    "This script was developed on Python 3.9.19.<br>\n",
    "Ensure that the following packages are installed:  *pandas, xarray, numpy*<br>\n",
    "Feel free to optimise this script and share the update<br>"
   ]
  },
  {
   "cell_type": "markdown",
   "metadata": {},
   "source": [
    "**1. Importing libraries**"
   ]
  },
  {
   "cell_type": "code",
   "execution_count": 1,
   "metadata": {},
   "outputs": [],
   "source": [
    "import xarray as xr\n",
    "import numpy as np"
   ]
  },
  {
   "cell_type": "markdown",
   "metadata": {},
   "source": [
    "**2. Creating a function to for georeferencing and extracting the AOI**"
   ]
  },
  {
   "cell_type": "code",
   "execution_count": null,
   "metadata": {},
   "outputs": [],
   "source": [
    "\n",
    "def georef_clip (input_file, aoi, output_file): \n",
    "    dataset = xr.open_dataset(input_file) # Opening the CMIP6 dataset\n",
    "\n",
    "    # Georeferencing step\n",
    "    dataset[\"lon\"] = np.where(dataset[\"lon\"] > 180, dataset[\"lon\"] - 360, dataset[\"lon\"]) # Changing the 0-360 longitude format to use the -180 to 180 format\n",
    "    dataset = dataset.sortby(dataset.lon) # Sorting the data by longitude values\n",
    "\n",
    "    # Extracting the area of interest (AOI)\n",
    "\n",
    "        # Finding the coordinates in the dataset that is closest to the provided AOI. \n",
    "    lat_max = np.argmin(np.abs(dataset[\"lat\"].values - aoi[0]))\n",
    "    lat_min = np.argmin(np.abs(dataset[\"lat\"].values - aoi[1]))\n",
    "    lon_max = np.argmin(np.abs(dataset[\"lon\"].values - aoi[2]))\n",
    "    lon_min = np.argmin(np.abs(dataset[\"lon\"].values - aoi[3]))\n",
    "\n",
    "        # Getting the id of the closest coordinates\n",
    "    lon_min_id = dataset[\"lon\"].values[lon_min]\n",
    "    lon_max_id = dataset[\"lon\"].values[lon_max]\n",
    "    lat_min_id = dataset[\"lat\"].values[lat_min]\n",
    "    lat_max_id = dataset[\"lat\"].values[lat_max]\n",
    "\n",
    "        # Clipping the data using the identified coordinates in the dataset that close to the provided AOI\n",
    "    clipped_data = dataset.sel(lon=slice(lon_min_id, lon_max_id), lat=slice(lat_min_id, lat_max_id))\n",
    "\n",
    "    # Saving the result\n",
    "    clipped_data.to_netcdf(output_file)\n",
    "\n",
    "    print (f\"Process completed. Data saved here {output_file}\")\n"
   ]
  },
  {
   "cell_type": "markdown",
   "metadata": {},
   "source": [
    "**3. Georeferencing and extracting the AOI**"
   ]
  },
  {
   "cell_type": "code",
   "execution_count": null,
   "metadata": {},
   "outputs": [],
   "source": [
    "# Setting the parameters to be used by the function\n",
    "input_file = \"C:/Users/ilung/Documents/uas_day_IPSL-CM6A-LR_ssp245_r1i1p1f1_gr_20150101-21001231.nc\" # input CMIP6 file\n",
    "aoi = [15, -3, 3, -14] # The AOI bounding box. Must use the following format [lat_max, lat_min, lon_max, lon_min]\n",
    "output_file = \"C:/Users/ilung/Documents/uas_day_clip.nc\" # Output file\n",
    "\n",
    "# Launching the function to georeference and extract the AOI\n",
    "georef_clip(input_file, aoi, output_file)"
   ]
  }
 ],
 "metadata": {
  "kernelspec": {
   "display_name": "python39",
   "language": "python",
   "name": "python3"
  },
  "language_info": {
   "codemirror_mode": {
    "name": "ipython",
    "version": 3
   },
   "file_extension": ".py",
   "mimetype": "text/x-python",
   "name": "python",
   "nbconvert_exporter": "python",
   "pygments_lexer": "ipython3",
   "version": "3.9.18"
  }
 },
 "nbformat": 4,
 "nbformat_minor": 2
}
